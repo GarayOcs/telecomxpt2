{
 "cells": [
  {
   "cell_type": "markdown",
   "id": "10a4cc71",
   "metadata": {},
   "source": [
    "# **TelecomX_parte2_Latam**"
   ]
  },
  {
   "cell_type": "markdown",
   "id": "d8d4e938",
   "metadata": {},
   "source": [
    "## Objetivo\n",
    "\n",
    "---\n",
    "\n",
    "\n",
    "\n",
    "Tu nueva misión es desarrollar modelos predictivos capaces de prever qué clientes tienen mayor probabilidad de cancelar sus servicios.\n",
    "\n",
    "La empresa quiere anticiparse al problema de la cancelación, y te corresponde a ti construir un pipeline robusto para esta etapa inicial de modelado.\n",
    "\n",
    "\\\n",
    "\n",
    "## Metas del proyecto\n",
    "\n",
    "---\n",
    "\n",
    "\n",
    "- Preparar los datos para el modelado (tratamiento, codificación, normalización).\n",
    "\n",
    "- Realizar análisis de correlación y selección de variables.\n",
    "\n",
    "- Entrenar dos o más modelos de clasificación.\n",
    "\n",
    "- Evaluar el rendimiento de los modelos con métricas.\n",
    "\n",
    "- Interpretar los resultados, incluyendo la importancia de las variables.\n",
    "\n",
    "- Crear una conclusión estratégica señalando los principales factores que influyen en la cancelación.\n",
    "\n",
    "\n",
    "\\\n",
    "\n",
    "## Habilidades a desarrollar\n",
    "\n",
    "---\n",
    "\n",
    "- Preprocesamiento de datos para Machine Learning\n",
    "- Construcción y evaluación de modelos predictivos\n",
    "- Interpretación de resultados y entrega de insights\n",
    "- Comunicación técnica con enfoque estratégico\n",
    "\n"
   ]
  },
  {
   "cell_type": "markdown",
   "id": "98c64e49",
   "metadata": {},
   "source": [
    "# 1.Preparación de los datos"
   ]
  },
  {
   "cell_type": "markdown",
   "id": "ee0fa313",
   "metadata": {},
   "source": [
    "## Extracción del Archivo Tratado"
   ]
  },
  {
   "cell_type": "code",
   "execution_count": null,
   "id": "c58a94d8",
   "metadata": {},
   "outputs": [],
   "source": [
    "import pandas as pd\n",
    "datos =  pd.read_csv('/content/datos_tratados.csv')"
   ]
  },
  {
   "cell_type": "code",
   "execution_count": null,
   "id": "3e429389",
   "metadata": {},
   "outputs": [],
   "source": [
    "datos.shape"
   ]
  },
  {
   "cell_type": "code",
   "execution_count": null,
   "id": "a506c0e5",
   "metadata": {},
   "outputs": [],
   "source": [
    "datos.sample(2)"
   ]
  },
  {
   "cell_type": "code",
   "execution_count": null,
   "id": "9b783776",
   "metadata": {},
   "outputs": [],
   "source": [
    "datos.info()"
   ]
  },
  {
   "cell_type": "markdown",
   "id": "8fbeae9e",
   "metadata": {},
   "source": [
    "##Eliminación de Columnas Irrelevantes"
   ]
  },
  {
   "cell_type": "code",
   "execution_count": null,
   "id": "8c2efc71",
   "metadata": {},
   "outputs": [],
   "source": [
    "datos = datos.drop(columns='clientesID', axis = 1)\n",
    "datos.sample(2)"
   ]
  },
  {
   "cell_type": "markdown",
   "id": "5fff78e3",
   "metadata": {},
   "source": [
    "##Enconding"
   ]
  },
  {
   "cell_type": "code",
   "execution_count": null,
   "id": "e9da6b81",
   "metadata": {},
   "outputs": [],
   "source": [
    "datos['genero'] = datos['genero'].replace({'Hombre':0,'Mujer':1})\n",
    "datos.head(1)"
   ]
  },
  {
   "cell_type": "code",
   "execution_count": null,
   "id": "03ba5536",
   "metadata": {},
   "outputs": [],
   "source": [
    "categoricas = ['proveedor_internet','contrato','forma_pago']\n",
    "datos_cod = pd.get_dummies(data = datos, columns = categoricas, dtype = int)\n",
    "datos_cod.head(1)"
   ]
  },
  {
   "cell_type": "markdown",
   "id": "9fb86537",
   "metadata": {},
   "source": [
    "## Verificación de la Proporción de Cancelación (Churn)\n"
   ]
  },
  {
   "cell_type": "markdown",
   "id": "93cf202f",
   "metadata": {},
   "source": [
    "Calcula la proporción de clientes que cancelaron en relación con los que permanecieron activos. Evalúa si existe un desbalance entre las clases, ya que esto puede impactar en los modelos predictivos y en el análisis de los resultados."
   ]
  },
  {
   "cell_type": "code",
   "execution_count": null,
   "id": "9f7ff8f8",
   "metadata": {},
   "outputs": [],
   "source": [
    "datos['estadia_empresa'].value_counts()"
   ]
  },
  {
   "cell_type": "code",
   "execution_count": null,
   "id": "b7678d5a",
   "metadata": {},
   "outputs": [],
   "source": [
    "datos['estadia_empresa'].value_counts(normalize = True)"
   ]
  },
  {
   "cell_type": "markdown",
   "id": "c7c1ffd7",
   "metadata": {},
   "source": [
    "##Balanceo de Clases"
   ]
  },
  {
   "cell_type": "code",
   "execution_count": null,
   "id": "63ae9308",
   "metadata": {},
   "outputs": [],
   "source": [
    "datos_cod['gastos_totales'] = datos_cod['gastos_totales'].fillna(datos_cod['gastos_totales'].median())\n",
    "\n",
    "X = datos_cod.drop(columns='estadia_empresa', axis = 1)\n",
    "y = datos_cod['estadia_empresa']"
   ]
  },
  {
   "cell_type": "code",
   "execution_count": null,
   "id": "7f561397",
   "metadata": {},
   "outputs": [],
   "source": [
    "from imblearn.over_sampling import SMOTE\n",
    "\n",
    "oversampling = SMOTE()\n",
    "X_balanceada, y_balanceada = oversampling.fit_resample(X, y)\n",
    "\n",
    "y_balanceada.value_counts(normalize = True)"
   ]
  },
  {
   "cell_type": "markdown",
   "id": "fa4ae947",
   "metadata": {},
   "source": [
    "## Normalización o Estandarización (si es necesario)"
   ]
  },
  {
   "cell_type": "code",
   "execution_count": null,
   "id": "c59e70ff",
   "metadata": {},
   "outputs": [],
   "source": [
    "from sklearn.preprocessing import MinMaxScaler\n",
    "\n",
    "normalizacion = MinMaxScaler()\n",
    "#X_train_normalizada = normalizacion.fit_transform(X_train)"
   ]
  },
  {
   "cell_type": "markdown",
   "id": "fe3e176c",
   "metadata": {},
   "source": [
    "# 2.Correlación y Selección de Variables"
   ]
  },
  {
   "cell_type": "markdown",
   "id": "16fa0785",
   "metadata": {},
   "source": [
    "## Análisis de Correlación"
   ]
  },
  {
   "cell_type": "code",
   "execution_count": null,
   "id": "fe9d275d",
   "metadata": {},
   "outputs": [],
   "source": [
    "correlacion = datos_cod.corr()\n",
    "correlacion_estadia = correlacion['estadia_empresa'].sort_values(ascending = False)\n",
    "display(correlacion_estadia)"
   ]
  },
  {
   "cell_type": "markdown",
   "id": "fbe0c091",
   "metadata": {},
   "source": [
    "## Análisis Dirigido"
   ]
  },
  {
   "cell_type": "code",
   "execution_count": null,
   "id": "e8b093b8",
   "metadata": {},
   "outputs": [],
   "source": [
    "import matplotlib.pyplot as plt\n",
    "import seaborn as sns"
   ]
  },
  {
   "cell_type": "code",
   "execution_count": null,
   "id": "117a8681",
   "metadata": {},
   "outputs": [],
   "source": [
    "# Tiempo de contrato × Cancelación\n",
    "sns.boxplot(x='estadia_empresa', y='meses_contrato', data=datos_cod)\n",
    "plt.title('Tiempo de contrato según cancelación')\n",
    "plt.xlabel('Estadia en la empresa (1 = Se quedó, 0 = Canceló)')\n",
    "plt.ylabel('Meses de contrato')\n",
    "plt.show()"
   ]
  },
  {
   "cell_type": "markdown",
   "id": "cf0aafd0",
   "metadata": {},
   "source": [
    "Al observar el boxplot, se aprecia que los clientes que cancelaron el servicio (estadia_empresa = 0) tienden a tener más meses de contrato, mientras que los que se quedaron (estadia_empresa = 1) tienen contratos menos largos. Esto sugiere que una mayor permanencia está asociada con msyor probabilidad de cancelación."
   ]
  },
  {
   "cell_type": "code",
   "execution_count": null,
   "id": "9c7c5a63",
   "metadata": {},
   "outputs": [],
   "source": [
    "# Gasto total × Cancelación\n",
    "sns.boxplot(x='estadia_empresa', y='gastos_totales', data=datos_cod)\n",
    "plt.title('Gasto total según cancelación')\n",
    "plt.xlabel('Estadia en la empresa (1 = Se quedó, 0 = Canceló)')\n",
    "plt.ylabel('Gastos totales')\n",
    "plt.show()"
   ]
  },
  {
   "cell_type": "markdown",
   "id": "5a0beeb5",
   "metadata": {},
   "source": [
    "En el gráfico de gasto total, se puede observar que quienes gastan más suelen permanecer menos tiempo con la empresa. Esto puede indicar que clientes de alto valor no están comprometidos o satisfechos con el servicio."
   ]
  },
  {
   "cell_type": "markdown",
   "id": "47057aa1",
   "metadata": {},
   "source": [
    "# 3.Modelado Predictivo"
   ]
  },
  {
   "cell_type": "markdown",
   "id": "4f6a3b2e",
   "metadata": {},
   "source": [
    "## Separación de Datos"
   ]
  },
  {
   "cell_type": "code",
   "execution_count": null,
   "id": "05ce7545",
   "metadata": {},
   "outputs": [],
   "source": [
    "datos.shape"
   ]
  },
  {
   "cell_type": "code",
   "execution_count": null,
   "id": "c3b4a21c",
   "metadata": {},
   "outputs": [],
   "source": [
    "from sklearn.dummy import DummyRegressor\n",
    "from sklearn.model_selection import train_test_split #permite separar los datos\n",
    "\n",
    "X_train, X_test, y_train, y_test = train_test_split(X, y, test_size=0.3, random_state=21)\n",
    "\n",
    "baseline = DummyRegressor(strategy='mean')\n",
    "baseline.fit(X_train, y_train)"
   ]
  },
  {
   "cell_type": "markdown",
   "id": "f02aa042",
   "metadata": {},
   "source": [
    "##Creación de Modelos"
   ]
  },
  {
   "cell_type": "markdown",
   "id": "2b406224",
   "metadata": {},
   "source": [
    "Crea al menos dos modelos diferentes para predecir la cancelación de clientes.\n",
    "\n",
    "- Un modelo puede requerir normalización, como Regresión Logística o KNN.\n",
    "\n",
    "- El otro modelo puede no requerir normalización, como Árbol de Decisión o Random Forest.\n",
    "\n",
    "\n",
    " La decisión de aplicar o no la normalización depende de los modelos seleccionados. Ambos modelos pueden ser creados sin normalización, pero también es una opción combinar modelos con y sin normalización.\n",
    "\n",
    "\n",
    "**Justificación:**\n",
    "- Regresión Logística / KNN: Estos modelos son sensibles a la escala de los datos, por lo que la normalización es importante para que los coeficientes o las distancias se calculen correctamente.\n",
    "\n",
    "- Árbol de Decisión / Random Forest: Estos modelos no dependen de la escala de los datos, por lo que no es necesario aplicar normalización.\n",
    "\n",
    "Si decides normalizar los datos, deberías explicar cómo esta etapa asegura que los modelos basados en distancia o en optimización de parámetros no se vean sesgados por la magnitud de las variables."
   ]
  },
  {
   "cell_type": "markdown",
   "id": "71fb9809",
   "metadata": {},
   "source": [
    "### Normalización"
   ]
  },
  {
   "cell_type": "code",
   "execution_count": null,
   "id": "d9f499ef",
   "metadata": {},
   "outputs": [],
   "source": [
    "X_train_normalizada = normalizacion.fit_transform(X_train)"
   ]
  },
  {
   "cell_type": "markdown",
   "id": "996371d9",
   "metadata": {},
   "source": [
    "### Modelo bosques aleatorios"
   ]
  },
  {
   "cell_type": "code",
   "execution_count": null,
   "id": "0c0f48aa",
   "metadata": {},
   "outputs": [],
   "source": [
    "from sklearn.ensemble import RandomForestClassifier\n",
    "\n",
    "modelo_bosques = RandomForestClassifier(max_depth = 5, random_state=21)\n",
    "modelo_bosques.fit(X_train, y_train)\n",
    "\n",
    "modelo_bosques.score(X_test, y_test)"
   ]
  },
  {
   "cell_type": "markdown",
   "id": "bd63f772",
   "metadata": {},
   "source": [
    "### Modelo árbol de decisión"
   ]
  },
  {
   "cell_type": "code",
   "execution_count": null,
   "id": "5c793254",
   "metadata": {},
   "outputs": [],
   "source": [
    "from sklearn.tree import DecisionTreeClassifier\n",
    "\n",
    "X, X_test2, y, y_test2 = train_test_split(X, y, test_size=0.3, stratify=y, random_state=21)\n",
    "X_train2, X_val, y_train2, y_val = train_test_split(X, y, stratify=y, random_state=21)\n",
    "\n",
    "modelo_arbol = DecisionTreeClassifier(max_depth=10)\n",
    "modelo_arbol.fit(X_train, y_train)\n",
    "modelo_arbol.score(X_val, y_val)"
   ]
  },
  {
   "cell_type": "markdown",
   "id": "daf65bef",
   "metadata": {},
   "source": [
    "## Evaluación de lo Modelos"
   ]
  },
  {
   "cell_type": "code",
   "execution_count": null,
   "id": "9c9562d0",
   "metadata": {},
   "outputs": [],
   "source": [
    "from sklearn.metrics import accuracy_score, precision_score, recall_score, f1_score, confusion_matrix"
   ]
  },
  {
   "cell_type": "code",
   "execution_count": null,
   "id": "9df315af",
   "metadata": {},
   "outputs": [],
   "source": [
    "import sklearn.metrics as ConfusionMatrixDisplay"
   ]
  },
  {
   "cell_type": "code",
   "execution_count": null,
   "id": "cb90fca2",
   "metadata": {},
   "outputs": [],
   "source": [
    "from sklearn.metrics import mean_absolute_error # Error absoluto medio\n",
    "from sklearn.metrics import mean_squared_error # Raiz cuadrada del error\n",
    "from sklearn.metrics import r2_score # Coeficiente de determinación\n",
    "\n",
    "y_pred_dummy = baseline.predict(X_test)\n",
    "\n",
    "def calcular_regresion(y_test, y_pred):\n",
    "  rmse = mean_squared_error(y_test, y_pred)\n",
    "  mae = mean_absolute_error(y_test, y_pred)\n",
    "  r2 = r2_score(y_test, y_pred)\n",
    "  metricas = {'RMSE':round(rmse**(1/2), 4),\n",
    "              'MAE':round(mae, 4),\n",
    "              'R2':round(r2, 4)}\n",
    "\n",
    "  return metricas"
   ]
  },
  {
   "cell_type": "code",
   "execution_count": null,
   "id": "1701be16",
   "metadata": {},
   "outputs": [],
   "source": [
    "def calcular_metricas (y_test, y_pred):\n",
    "  exactitud = accuracy_score(y_test, y_pred)\n",
    "  precision = precision_score(y_test, y_pred)\n",
    "  recall = recall_score(y_test, y_pred)\n",
    "  f1 = f1_score(y_test, y_pred)\n",
    "  matriz = confusion_matrix(y_test, y_pred)\n",
    "\n",
    "  print(f'Exactitud: {exactitud:.2f}')\n",
    "  print(f'Precisión: {precision:.2f}')\n",
    "  print(f'Recall: {recall:.2f}')\n",
    "  print(f'F1-score: {f1:.2f}')\n",
    "  print('\\nMatriz de confusión:')\n",
    "  print(matriz)"
   ]
  },
  {
   "cell_type": "markdown",
   "id": "1ce00f61",
   "metadata": {},
   "source": [
    "###Modelo bosques aleatorios"
   ]
  },
  {
   "cell_type": "code",
   "execution_count": null,
   "id": "4a5959ff",
   "metadata": {},
   "outputs": [],
   "source": [
    "y_pred = modelo_bosques.predict(X_test)"
   ]
  },
  {
   "cell_type": "code",
   "execution_count": null,
   "id": "21e461d3",
   "metadata": {},
   "outputs": [],
   "source": [
    "calcular_metricas (y_test, y_pred)\n"
   ]
  },
  {
   "cell_type": "code",
   "execution_count": null,
   "id": "1630f27b",
   "metadata": {},
   "outputs": [],
   "source": [
    "matriz = confusion_matrix(y_test, y_pred)\n",
    "visulizacion = ConfusionMatrixDisplay.ConfusionMatrixDisplay(matriz)\n",
    "visulizacion.plot();"
   ]
  },
  {
   "cell_type": "markdown",
   "id": "d79a0617",
   "metadata": {},
   "source": [
    "###Modelo árbol"
   ]
  },
  {
   "cell_type": "code",
   "execution_count": null,
   "id": "42c3e89d",
   "metadata": {},
   "outputs": [],
   "source": [
    "y_val_pred = modelo_arbol.predict(X_val)"
   ]
  },
  {
   "cell_type": "code",
   "execution_count": null,
   "id": "8dbb745b",
   "metadata": {},
   "outputs": [],
   "source": [
    "calcular_metricas (y_val, y_val_pred)"
   ]
  },
  {
   "cell_type": "code",
   "execution_count": null,
   "id": "4e311c1f",
   "metadata": {},
   "outputs": [],
   "source": [
    "matriz = confusion_matrix(y_val, y_val_pred)\n",
    "visulizacion = ConfusionMatrixDisplay.ConfusionMatrixDisplay(matriz)\n",
    "visulizacion.plot();"
   ]
  },
  {
   "cell_type": "markdown",
   "id": "5e4954bb",
   "metadata": {},
   "source": [
    "###COMPARACIÓN\n",
    "\n",
    "- **Accuracy (exactitud):**\n",
    " - Árbol: clasifica correctamente el 74% de los casos.\n",
    " - Bosques: clasifica correctamente el 66%.\n",
    "\n",
    "\n",
    "- **Precisión:**\n",
    " - Árbol: de todas las predicciones positivas (clientes que no cancelan), el 49% fueron correctas.\n",
    " - Bosques: solo el 24%, es decir, predice muchos falsos positivos.\n",
    "\n",
    "- **Recall:**\n",
    " - Árbol: identifica correctamente al 50% de los que se quedaron.\n",
    " - Bosques: apenas reconoce al 16%.\n",
    "\n",
    "- **F1-Score:**\n",
    " - Árbol: buen equilibrio entre precisión y recall (0.5).\n",
    " - Bosques: mal equilibrio (0.19).\n",
    "\n",
    "\n",
    " - **Matriz**\n",
    "  - Árbol:\n",
    "    - Bastante balanceado, con un número aceptable de verdaderos positivos.\n",
    "    - Buen equilibrio entre errores de tipo I (FP) y tipo II (FN).\n",
    "  - Bosques:\n",
    "    - Muchísimos falsos negativos (474), es decir, predice mal a los clientes que se quedaron.\n",
    "    - También tiene bastantes falsos positivos.\n",
    "    - Pésima sensibilidad (recall) — casi no detecta a los que se quedan.\n",
    "\n"
   ]
  },
  {
   "cell_type": "markdown",
   "id": "488828d4",
   "metadata": {},
   "source": [
    "#### Overfitting o underfitting"
   ]
  },
  {
   "cell_type": "markdown",
   "id": "800d49e8",
   "metadata": {},
   "source": [
    "**Bosques**\n",
    "\n",
    "Muy probable que si underfitting, porque no logra capturar patrones útiles, da predicciones generales o erróneas.\n",
    "\n",
    "\\\n",
    "**Árbol**\n",
    "\n",
    "Overfitting posiblemente sí, aunque leve."
   ]
  },
  {
   "cell_type": "markdown",
   "id": "0e8792ec",
   "metadata": {},
   "source": [
    "####MEJORAR"
   ]
  },
  {
   "cell_type": "code",
   "execution_count": null,
   "id": "8e11c9ff",
   "metadata": {},
   "outputs": [],
   "source": [
    "def calcular_metricas (y_test, y_pred):\n",
    "  exactitud = accuracy_score(y_test, y_pred)\n",
    "  precision = precision_score(y_test, y_pred)\n",
    "  recall = recall_score(y_test, y_pred)\n",
    "  f1 = f1_score(y_test, y_pred)\n",
    "\n",
    "  metricas = {'Exactitud':round(exactitud, 2),\n",
    "              'Precisión':round(precision, 2),\n",
    "              'recall':round(recall, 2),\n",
    "              'F1':round(f1, 2)\n",
    "              }\n",
    "  return metricas"
   ]
  },
  {
   "cell_type": "markdown",
   "id": "bbff7099",
   "metadata": {},
   "source": [
    "#####Modelo bosques"
   ]
  },
  {
   "cell_type": "code",
   "execution_count": null,
   "id": "64049d06",
   "metadata": {},
   "outputs": [],
   "source": [
    "importances = modelo_bosques.feature_importances_"
   ]
  },
  {
   "cell_type": "code",
   "execution_count": null,
   "id": "06af64fb",
   "metadata": {},
   "outputs": [],
   "source": [
    "feature_importances_ = pd.DataFrame({'Features':X.columns, 'Importances':(importances*100).round(2)}).sort_values('Importances', ascending = False)\n",
    "feature_importances_"
   ]
  },
  {
   "cell_type": "code",
   "execution_count": null,
   "id": "816aceb5",
   "metadata": {},
   "outputs": [],
   "source": [
    "len(datos_cod.columns)"
   ]
  },
  {
   "cell_type": "code",
   "execution_count": null,
   "id": "2312e8a5",
   "metadata": {},
   "outputs": [],
   "source": [
    "resultados = pd.DataFrame(index =['Exactitud', 'Precision', 'Recall', 'F1-score'])\n",
    "model_features= RandomForestClassifier(max_depth = 5, random_state=21)\n",
    "ct_features = [ i if i != 0 else 1 for i in range (0,30,2)]\n",
    "\n",
    "for i in ct_features:\n",
    "  select_features = feature_importances_['Features'].values[:i]\n",
    "  X_train_sel = X_train[select_features]\n",
    "  X_test_sel = X_test[select_features]\n",
    "  model_features.fit(X_train_sel, y_train)\n",
    "  y_pred = model_features.predict(X_test_sel)\n",
    "\n",
    "  metricas = calcular_metricas(y_test, y_pred)\n",
    "  resultados[i] = list(metricas.values())\n",
    "\n",
    "resultados"
   ]
  },
  {
   "cell_type": "code",
   "execution_count": null,
   "id": "cabd98a3",
   "metadata": {},
   "outputs": [],
   "source": [
    "select_features = feature_importances_['Features'].values[:14]\n",
    "X_selected_features = X[select_features]\n",
    "\n",
    "X_selected_features.head(1)"
   ]
  },
  {
   "cell_type": "code",
   "execution_count": null,
   "id": "8b426e88",
   "metadata": {},
   "outputs": [],
   "source": [
    "X_train_final = X_train[select_features]\n",
    "X_test_final = X_test[select_features]\n",
    "\n",
    "modelo_bosque_final= RandomForestClassifier(max_depth=5, random_state=21)\n",
    "modelo_bosque_final.fit(X_train_final, y_train)"
   ]
  },
  {
   "cell_type": "code",
   "execution_count": null,
   "id": "6757e59b",
   "metadata": {},
   "outputs": [],
   "source": [
    "param_grid = {\n",
    "    'n_estimators': [100, 200],\n",
    "    'max_depth': [5, 10, None],\n",
    "    'min_samples_split': [2, 5, 10],\n",
    "    'min_samples_leaf': [1, 2, 5],\n",
    "    'max_features': ['sqrt', 'log2']\n",
    "}"
   ]
  },
  {
   "cell_type": "code",
   "execution_count": null,
   "id": "a5d2307b",
   "metadata": {},
   "outputs": [],
   "source": [
    "from sklearn.model_selection import GridSearchCV\n",
    "from sklearn.model_selection import KFold"
   ]
  },
  {
   "cell_type": "code",
   "execution_count": null,
   "id": "32746a80",
   "metadata": {},
   "outputs": [],
   "source": [
    "cv = KFold(n_splits= 5, shuffle=True, random_state=21)\n",
    "grid_rf = GridSearchCV(\n",
    "    estimator=modelo_bosque_final,\n",
    "    param_grid=param_grid,\n",
    "    cv=cv,\n",
    "    scoring='f1',\n",
    ")\n",
    "\n",
    "grid_rf.fit(X_train, y_train)"
   ]
  },
  {
   "cell_type": "code",
   "execution_count": null,
   "id": "0abeb7ee",
   "metadata": {},
   "outputs": [],
   "source": [
    "print(\"Mejores parámetros para Random Forest:\")\n",
    "print(grid_rf.best_params_)\n"
   ]
  },
  {
   "cell_type": "code",
   "execution_count": null,
   "id": "8ea48a33",
   "metadata": {},
   "outputs": [],
   "source": [
    "modelo_bosques_final = grid_rf.best_estimator_\n",
    "\n",
    "from sklearn.metrics import classification_report\n",
    "\n",
    "y_pred_rf = modelo_bosques_final.predict(X_test)\n",
    "print(\"Reporte del mejor modelo de Random Forest:\")\n",
    "print(classification_report(y_test, y_pred_rf, digits=2))\n",
    "\n",
    "print(\"Matriz de confusión:\")\n",
    "print(confusion_matrix(y_test, y_pred))"
   ]
  },
  {
   "cell_type": "code",
   "execution_count": null,
   "id": "12ae0d62",
   "metadata": {},
   "outputs": [],
   "source": [
    "##USAR EL MODELO\n",
    "y_pred_final = modelo_bosque_final.predict(X_test_final)\n",
    "metricas_finales = calcular_metricas(y_test, y_pred_final)\n",
    "\n",
    "print(metricas_finales)\n"
   ]
  },
  {
   "cell_type": "markdown",
   "id": "3dcfa314",
   "metadata": {},
   "source": [
    "#####Modelo árbol"
   ]
  },
  {
   "cell_type": "code",
   "execution_count": null,
   "id": "dd555c02",
   "metadata": {},
   "outputs": [],
   "source": [
    "from sklearn.model_selection import cross_validate"
   ]
  },
  {
   "cell_type": "code",
   "execution_count": null,
   "id": "6fb5c6ad",
   "metadata": {},
   "outputs": [],
   "source": [
    "importancia_vars = modelo_arbol.feature_importances_\n",
    "importancia_vars"
   ]
  },
  {
   "cell_type": "code",
   "execution_count": null,
   "id": "3cf40101",
   "metadata": {},
   "outputs": [],
   "source": [
    "resultados = pd.DataFrame(index =['Exactitud', 'Precision', 'Recall', 'F1-score'])\n",
    "model_features2= DecisionTreeClassifier(max_depth = 5, random_state=21)\n",
    "ct_features = [ i if i != 0 else 1 for i in range (0,30,2)]\n",
    "\n",
    "for i in ct_features:\n",
    "  select_features = feature_importances_['Features'].values[:i]\n",
    "  X_train_sel = X_train[select_features]\n",
    "  X_test_sel = X_test[select_features]\n",
    "  model_features2.fit(X_train_sel, y_train)\n",
    "  y_pred2 = model_features2.predict(X_test_sel)\n",
    "\n",
    "  metricas = calcular_metricas(y_test, y_pred2)\n",
    "  resultados[i] = list(metricas.values())\n",
    "\n",
    "resultados"
   ]
  },
  {
   "cell_type": "code",
   "execution_count": null,
   "id": "cfffb8d6",
   "metadata": {},
   "outputs": [],
   "source": [
    "select_features2 = feature_importances_['Features'].values[:6]\n",
    "X_selected_features2 = X[select_features2]\n",
    "\n",
    "X_selected_features2.head(1)"
   ]
  },
  {
   "cell_type": "code",
   "execution_count": null,
   "id": "07b862f0",
   "metadata": {},
   "outputs": [],
   "source": [
    "X_train_final2 = X_train2[select_features2]\n",
    "X_test_final2 = X_test2[select_features2]\n",
    "\n",
    "modelo_arbol_final= DecisionTreeClassifier(max_depth=5, random_state=21)\n",
    "modelo_arbol_final.fit(X_train_final2, y_train2)"
   ]
  },
  {
   "cell_type": "code",
   "execution_count": null,
   "id": "52886494",
   "metadata": {},
   "outputs": [],
   "source": [
    "param_grid = {\n",
    "    'max_depth': [3, 5, 7, 10],\n",
    "    'min_samples_split': [2, 5, 10],\n",
    "    'min_samples_leaf': [1, 5, 10],\n",
    "    }"
   ]
  },
  {
   "cell_type": "code",
   "execution_count": null,
   "id": "4e791367",
   "metadata": {},
   "outputs": [],
   "source": [
    "cv = KFold(n_splits= 5, shuffle=True, random_state=21)\n",
    "model_grid = GridSearchCV(modelo_arbol_final,\n",
    "                          param_grid = param_grid, scoring = 'f1', cv = cv )\n",
    "\n",
    "model_grid.fit(X_train2, y_train2)"
   ]
  },
  {
   "cell_type": "code",
   "execution_count": null,
   "id": "f1ddf6da",
   "metadata": {},
   "outputs": [],
   "source": [
    "print(\"Mejores parámetros:\", model_grid.best_params_)"
   ]
  },
  {
   "cell_type": "code",
   "execution_count": null,
   "id": "0ffea8db",
   "metadata": {},
   "outputs": [],
   "source": [
    "modelo_arbol_final = DecisionTreeClassifier(\n",
    "    max_depth=5,\n",
    "    min_samples_leaf=1,\n",
    "    min_samples_split=2,\n",
    "    random_state=21\n",
    ")\n",
    "\n",
    "modelo_arbol_final.fit(X_train2, y_train2)"
   ]
  },
  {
   "cell_type": "code",
   "execution_count": null,
   "id": "3596270f",
   "metadata": {},
   "outputs": [],
   "source": [
    "y_val_pred = modelo_arbol.predict(X_val)"
   ]
  },
  {
   "cell_type": "code",
   "execution_count": null,
   "id": "54839a03",
   "metadata": {},
   "outputs": [],
   "source": [
    "y_val_pred = modelo_arbol_final.predict(X_test2)\n",
    "\n",
    "print(\"Reporte del mejor modelo de Árbol de decisión:\")\n",
    "print(classification_report(y_test2, y_val_pred, digits=2))\n",
    "\n",
    "print(\"Matriz de confusión:\")\n",
    "print(confusion_matrix(y_test2, y_pred2))\n"
   ]
  },
  {
   "cell_type": "markdown",
   "id": "fb11c43c",
   "metadata": {},
   "source": [
    "###COMPARACIÓN 2"
   ]
  },
  {
   "cell_type": "markdown",
   "id": "5e44557a",
   "metadata": {},
   "source": [
    "| Aspecto                        | Ganador           | Comentario                             |\n",
    "| ------------------------------ | ----------------- | -------------------------------------- |\n",
    "| Accuracy general               | Random Forest     | 80% vs 79%                             |\n",
    "| Clase 0 (mayoría)              | Random Forest     | Clasifica mejor sin fallos             |\n",
    "| Clase 1 (minoría)              | Árbol de decisión | Mejor recall y F1-score para positivos |\n",
    "| Balance entre clases           | Árbol de decisión | Macro avg más alto                     |\n",
    "| Menos falsos negativos clase 1 | Árbol de decisión | Aunque falla más en clase 0            |\n"
   ]
  },
  {
   "cell_type": "markdown",
   "id": "010a7c39",
   "metadata": {},
   "source": [
    "#4.Interpretación y conclusiones"
   ]
  },
  {
   "cell_type": "markdown",
   "id": "f258936e",
   "metadata": {},
   "source": [
    "## Análisis de la importancia de las variables"
   ]
  },
  {
   "cell_type": "markdown",
   "id": "e6fb1217",
   "metadata": {},
   "source": [
    "Random Forest: Utiliza la importancia de las variables proporcionada por el modelo. Random Forest calcula la importancia basándose en cómo cada variable contribuye a la reducción de la impureza durante las divisiones de los árboles."
   ]
  },
  {
   "cell_type": "markdown",
   "id": "9bf80acc",
   "metadata": {},
   "source": [
    "Otros Modelos: Dependiendo del modelo elegido, considera el análisis de métricas específicas para comprender la relevancia de las variables. Por ejemplo, coeficientes en modelos lineales, pesos en redes neuronales, o la importancia relativa en técnicas de boosting (como XGBoost)."
   ]
  },
  {
   "cell_type": "markdown",
   "id": "5b4f5ac7",
   "metadata": {},
   "source": [
    "### Random Forest\n",
    "\n",
    "**Análisis**\n",
    "\n",
    "---\n",
    "Variables más importantes (top 14 usadas por el modelo):\n",
    "\n",
    "| Variable                         | Importancia (%) | Correlación con cancelación |\n",
    "| -------------------------------- | --------------- | --------------------------- |\n",
    "| `contrato_Month-to-month`        | **21.41**       | **+0.396**                  |\n",
    "| `meses_contrato`                 | **16.64**       | **−0.344**                  |\n",
    "| `gastos_totales`                 | **12.53**       | **−0.194**                  |\n",
    "| `proveedor_internet_Fiber optic` | **9.10**        | **+0.301**                  |\n",
    "| `cuentas_diarias`                | 6.98            | +0.190                      |\n",
    "| `gastos_mensuales`               | 6.32            | +0.190                      |\n",
    "| `contrato_Two year`              | 5.91            | **−0.295**                  |\n",
    "| `forma_pago_Electronic check`    | 5.33            | **+0.295**                  |\n",
    "| `proveedor_internet_No`          | 3.01            | **−0.224**                  |\n",
    "| `contrato_One year`              | 2.22            | **−0.174**                  |\n",
    "| `soporte_tecnico`                | 1.99            | −0.160                      |\n",
    "| `proveedor_internet_DSL`         | 1.96            | **−0.120**                  |\n",
    "| `facturacion_electronica`        | 1.37            | +0.187                      |\n",
    "| `seguridad_linea`                | 1.24            | −0.167                      |\n",
    "\n",
    "\n",
    "\n"
   ]
  },
  {
   "cell_type": "markdown",
   "id": "79913759",
   "metadata": {},
   "source": [
    "**Factores que aumentan la probabilidad de cancelación:**\n",
    "- Contrato mes a mes (contrato_Month-to-month)\n",
    "- Pago por cheque electrónico (forma_pago_Electronic check)\n",
    "- Internet por fibra óptica\n",
    "- Gastos elevados y cuentas diarias altas\n",
    "\n",
    "\n",
    "**Factores que disminuyen la cancelación:**\n",
    "- Contrato de mayor duración (One year, Two year)\n",
    "- Más meses con la empresa\n",
    "- Soporte técnico\n",
    "- Seguridad en la línea\n",
    "- No tener proveedor de internet\n",
    "\n",
    "\n",
    "Clientes con contratos flexibles, pagos electrónicos y uso intenso tienen mayor riesgo de cancelar."
   ]
  },
  {
   "cell_type": "markdown",
   "id": "c054b028",
   "metadata": {},
   "source": [
    "### Modelo árbol\n",
    "\n",
    "**Análisis**\n",
    "\n",
    "---\n",
    "Variables más importantes (top 6 usadas por el modelo):\n",
    "\n",
    "| Variable                         | Importancia (%) | Correlación con cancelación |\n",
    "| -------------------------------- | --------------- | --------------------------- |\n",
    "| `contrato_Month-to-month`        | **21.41**       | **+0.396**                  |\n",
    "| `meses_contrato`                 | **16.64**       | **−0.344**                  |\n",
    "| `gastos_totales`                 | **12.53**       | **−0.194**                  |\n",
    "| `proveedor_internet_Fiber optic` | **9.10**        | **+0.301**                  |\n",
    "| `cuentas_diarias`                | **6.98**        | **+0.190**                  |\n",
    "| `gastos_mensuales`               | **6.32**        | **+0.190**                     |\n",
    "\n",
    "Coincide en gran medida con Random Forest, lo que refuerza la validez de estos factores."
   ]
  },
  {
   "cell_type": "markdown",
   "id": "56ada39f",
   "metadata": {},
   "source": [
    "**Conclusión de este análisis**\n",
    "\n",
    "---\n",
    "Variables clave en la predicción de cancelación:\n",
    "- **Contrato mes a mes:** el predictor más fuerte de cancelación. Clientes sin compromiso de permanencia son más propensos a irse.\n",
    "\n",
    "- **Duración con la empresa y tipo de contrato:** entre más tiempo y mayor compromiso, menor probabilidad de cancelar.\n",
    "\n",
    "- **Gasto y uso del servicio:** quienes gastan más o tienen más actividad tienden a cancelar, posiblemente por percepciones de costo-beneficio.\n",
    "\n",
    "- **Método de pago:** pagos automáticos están asociados con menor cancelación; electrónicos (manuales) con mayor cancelación.\n",
    "\n",
    "- **Tipo de internet:** la fibra óptica, aunque más rápida, se asocia con mayor cancelación — podría estar relacionada con expectativas no cumplidas o competencia.\n"
   ]
  },
  {
   "cell_type": "markdown",
   "id": "b67737ff",
   "metadata": {},
   "source": [
    "##Conclusión"
   ]
  },
  {
   "cell_type": "markdown",
   "id": "cb143965",
   "metadata": {},
   "source": [
    "**Introducción**\n",
    "---\n",
    "El análisis tuvo como propósito identificar los factores que más influyen en la cancelación de clientes, mediante modelos de clasificación y análisis de variables. Se entrenaron modelos de Árbol de Decisión y Random Forest, evaluando su rendimiento y extrayendo la importancia de cada variable para interpretar los resultados."
   ]
  },
  {
   "cell_type": "markdown",
   "id": "5ea45233",
   "metadata": {},
   "source": [
    "**Desarrollo**\n",
    "---\n",
    "\n",
    "**Rendimiento de los modelos**\n",
    "\n",
    "\n",
    "---\n",
    "\n",
    "\n",
    "\n",
    "| Modelo            | Exactitud | Precisión | Recall | F1-score |\n",
    "| ----------------- | --------- | --------- | ------ | -------- |\n",
    "| Árbol de Decisión | 0.74      | 0.49      | 0.48   | 0.49     |\n",
    "| Random Forest     | 0.66      | 0.51      | 0.42   | 0.46     |\n",
    "\n",
    "El Árbol de Decisión tuvo mejor rendimiento general, destacando por su capacidad de interpretar con claridad los factores más relevantes. Sin embargo, el modelo de Random Forest ofreció mayor robustez y una mejor comprensión del conjunto completo de variables.\n",
    "\n",
    "\\\n",
    "\n",
    "**Factores que más influyen en la cancelación**\n",
    "\n",
    "---\n",
    "\n",
    "Ambos modelos coinciden en señalar como factores clave los siguientes:\n",
    "\n",
    "*Variables asociadas con mayor riesgo de cancelación:*\n",
    "- Contrato mensual (contrato_Month-to-month)\n",
    "  - Clientes sin compromiso de permanencia son significativamente más propensos a cancelar.\n",
    "\n",
    "- Forma de pago: Cheque electrónico (forma_pago_Electronic check)\n",
    " - Asociado con mayor cancelación; posiblemente clientes menos bancarizados o más sensibles a procesos manuales.\n",
    "\n",
    "- Proveedor de internet por fibra óptica (proveedor_internet_Fiber optic)\n",
    "  - Puede estar relacionado con expectativas no satisfechas o mayor competencia en este tipo de servicio.\n",
    "\n",
    "- Altos gastos y uso diario (gastos_mensuales, cuentas_diarias)\n",
    "  - Clientes con mayor uso pueden estar más conscientes del costo y evaluar alternativas.\n",
    "\n",
    "*Variables que reducen la probabilidad de cancelación:*\n",
    "- Contratos a largo plazo (contrato_Two year, contrato_One year)\n",
    "  - Generan compromiso con la empresa y reducen la fuga.\n",
    "\n",
    "- Mayor tiempo con la empresa (meses_contrato)\n",
    " - Clientes con mayor antigüedad tienen menor tasa de cancelación.\n",
    "\n",
    "- Soporte técnico y servicios adicionales (soporte_tecnico, seguridad_linea)\n",
    "  - Mejoran la percepción del valor del servicio.\n",
    "\n"
   ]
  },
  {
   "cell_type": "markdown",
   "id": "b4d61c95",
   "metadata": {},
   "source": [
    "**Estrategias de retención sugeridas**\n",
    "\n",
    "\n",
    "---\n",
    "\n",
    "\n",
    "Basado en los factores encontrados, se proponen las siguientes estrategias para disminuir la cancelación:\n",
    "\n",
    "- Incentivar contratos a largo plazo\n",
    "  - Ofrecer beneficios (descuentos, servicios extra, acceso prioritario) por migrar a contratos anuales o bianuales.\n",
    "\n",
    "- Fomentar métodos de pago automáticos\n",
    "  - Promocionar pagos con tarjeta o transferencia automática como más seguros y cómodos.\n",
    "\n",
    "- Ofrecer bonificaciones por cambiar a estos métodos.\n",
    "  - Fortalecer soporte técnico y servicios adicionales\n",
    "\n",
    "- Mejorar la atención al cliente y soporte para usuarios con problemas técnicos.\n",
    "  - Promover servicios de seguridad y respaldo como valor agregado.\n",
    "\n",
    "- Monitorear a clientes de alto uso\n",
    " - Identificar clientes con uso intensivo y gastos elevados, para brindar atención personalizada, ofertas, o asesoramiento antes de que decidan cancelar.\n",
    "\n",
    "- Seguimiento proactivo a usuarios con contrato mensual\n",
    "  - Campañas de fidelización o encuestas de satisfacción orientadas a usuarios sin compromiso contractual."
   ]
  },
  {
   "cell_type": "markdown",
   "id": "784eca77",
   "metadata": {},
   "source": [
    "**Conclusión**\n",
    "---\n",
    "Este proyecto no solo nos permitió aplicar técnicas de machine learning, sino que también nos enseñó que los datos cuentan historias. En este caso, la historia es clara: el compromiso del cliente, la forma en que paga y cómo usa el servicio influyen fuertemente en su decisión de cancelar o quedarse.\n",
    "\n",
    "Entender estos factores puede ayudar a cualquier empresa de servicios a tomar mejores decisiones, mejorar su relación con los clientes y, por supuesto, reducir las cancelaciones."
   ]
  }
 ],
 "metadata": {},
 "nbformat": 4,
 "nbformat_minor": 5
}
